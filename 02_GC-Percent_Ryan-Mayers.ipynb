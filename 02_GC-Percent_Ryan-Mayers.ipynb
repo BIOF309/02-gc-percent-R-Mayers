{
 "cells": [
  {
   "cell_type": "markdown",
   "metadata": {},
   "source": [
    "#Pseudocode overview\n",
    "#This program takes a user-inputted sequence, and converts it from a string into a list\n",
    "#Also in the initial block of code, ints \"total\" \"GC\" and float \"percent\" are created\n",
    "\n",
    "#This program then uses a for loop to run through all values in the sequence\n",
    "##In this loop, each position is updated to the string current\n",
    "##Additionally, total is updated to be the current position + 1, so that it can be used in division later\n",
    "##Lastly, this loop has a nested if loop\n",
    "###Within this if loop, if current is G, g, C, or c - using both upper and lowercases to account for different forms of input - GC increases by 1 (we will divide this by total later)\n",
    "\n",
    "#Then, percent is set to be GC/total*100\n",
    "##Lastly, a string is outputted notifying the user of the percentage of GC bases using the float percent converted to a string\n",
    "\n",
    "#Unfortunately, this program cannot tell if you enter an invalid base, and will crash if a user submits an empty input"
   ]
  },
  {
   "cell_type": "code",
   "execution_count": 24,
   "metadata": {
    "scrolled": true
   },
   "outputs": [
    {
     "name": "stdout",
     "output_type": "stream",
     "text": [
      "This program can determine the percentage of G or C bases in a DNA or RNA sequence\n",
      "Please enter your sequence\n",
      "GATTACA\n",
      "This sequence has an invalid base at position 2\n",
      "This sequence has an invalid base at position 3\n",
      "This sequence has an invalid base at position 4\n",
      "This sequence has an invalid base at position 5\n",
      "This sequence has an invalid base at position 7\n",
      "2\n",
      "The percentage of G and C bases in this sequence is 28.57142857142857%\n"
     ]
    }
   ],
   "source": [
    "print(\"This program can determine the percentage of G or C bases in a DNA or RNA sequence\")\n",
    "print(\"Please enter your sequence\")\n",
    "sequence = input()\n",
    "list(sequence) #sequence being tested\n",
    "total = 0 #total number of bases\n",
    "GC = 0    #number of bases which are G or C\n",
    "percent = 0 #percentage of bases which are G or C\n",
    "\n",
    "for position in sequence :\n",
    "    current = sequence[total]\n",
    "    total = total + 1 #Will be dividing by total, so add one for each cycle\n",
    "    if current in [\"G\", \"g\", \"C\", \"c\"] :  #capital or lowercase to account for user input\n",
    "        GC = GC + 1\n",
    "\n",
    "percent = GC/total*100\n",
    "print(\"The percentage of G and C bases in this sequence is \" + str(percent) + \"%\")"
   ]
  }
 ],
 "metadata": {
  "kernelspec": {
   "display_name": "Python 3",
   "language": "python",
   "name": "python3"
  },
  "language_info": {
   "codemirror_mode": {
    "name": "ipython",
    "version": 3
   },
   "file_extension": ".py",
   "mimetype": "text/x-python",
   "name": "python",
   "nbconvert_exporter": "python",
   "pygments_lexer": "ipython3",
   "version": "3.6.1"
  }
 },
 "nbformat": 4,
 "nbformat_minor": 2
}
